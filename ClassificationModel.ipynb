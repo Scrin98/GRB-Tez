{
 "cells": [
  {
   "cell_type": "code",
   "execution_count": null,
   "metadata": {},
   "outputs": [],
   "source": [
    "import os\n",
    "import numpy\n",
    "import feets\n",
    "import feets.preprocess\n",
    "import pickle\n",
    "import pandas\n",
    "import django.as_table\n",
    "\n",
    "os.chdir('../')\n",
    "#Importing prompt and afterglow indexes using pickle\n",
    "with open('StartandFinish.pickle','rb') as f:\n",
    "    prompt_start, prompt_finish, afterglow_start, afterglow_finish = pickle.load(f)\n",
    "os.chdir('Raw Data')\n",
    "    \n",
    "#Listing files and setting column names\n",
    "files_list = os.listdir()\n",
    "col_names = ['Time', 'Time_err_p', 'Time_err_n', 'Fluence', 'Fluence_err_p', 'Fluence_err_n']\n",
    "\n",
    "Features_list = []\n",
    "\n",
    "for i in range(2):\n",
    "    \n",
    "\n",
    "i=0\n",
    "    #Creating the dataframe\n",
    "    dataframe = pandas.read_csv(files_list[i], sep='\\t', names=col_names, engine='python')\n",
    "    dataframe = dataframe.drop(columns=['Time_err_p', 'Time_err_n'])\n",
    "    dataset = dataframe.values\n",
    "    #Extracting only the prompt and afterglow fluences in a single column\n",
    "    prompt = dataset[prompt_start[i]:prompt_finish[i]]\n",
    "    afterglow = dataset[afterglow_start[i]:afterglow_finish[i]]\n",
    "    dataset = numpy.concatenate((prompt,afterglow))\n",
    "    dataset = dataset.astype('float32')\n",
    "    \n",
    "    \n",
    "    #Preprocess using feets\n",
    "    features = []\n",
    "    time, mag, error = feets.preprocess.remove_noise(dataset[:,0], dataset[:,1], dataset[:,2])\n",
    "    lc = [time, mag, error]\n",
    "    fs = feets.FeatureSpace(exclude = ['Color','Eta_color','Q31_color','StetsonJ', 'StetsonL'])\n",
    "    features, values = fs.extract(*lc)\n",
    "    as_table(features, values)\n",
    "    features.append(features,values)\n",
    "\n",
    "\n"
   ]
  }
 ],
 "metadata": {
  "kernelspec": {
   "display_name": "Python 3",
   "language": "python",
   "name": "python3"
  },
  "language_info": {
   "codemirror_mode": {
    "name": "ipython",
    "version": 3
   },
   "file_extension": ".py",
   "mimetype": "text/x-python",
   "name": "python",
   "nbconvert_exporter": "python",
   "pygments_lexer": "ipython3",
   "version": "3.7.4"
  }
 },
 "nbformat": 4,
 "nbformat_minor": 2
}
